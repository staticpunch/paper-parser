{
 "cells": [
  {
   "cell_type": "code",
   "execution_count": 1,
   "id": "ba31a47c-780f-4724-8484-915ac263b698",
   "metadata": {},
   "outputs": [],
   "source": [
    "from docling.document_converter import DocumentConverter, PdfFormatOption\n",
    "from docling.datamodel.pipeline_options import PdfPipelineOptions\n",
    "from docling.datamodel.accelerator_options import AcceleratorOptions, AcceleratorDevice\n",
    "from docling.datamodel.base_models import InputFormat\n",
    "from docling.utils.layout_postprocessor import LayoutPostprocessor\n",
    "from docling.datamodel.settings import settings\n",
    "from docling_core.types.doc import DocItemLabel\n",
    "from pathlib import Path\n",
    "import time\n",
    "\n",
    "def setup_debug_config(confidence_config):\n",
    "    \"\"\"Setup confidence filtering and debug output directory\"\"\"\n",
    "    # Store original thresholds for restoration later\n",
    "    original_thresholds = LayoutPostprocessor.CONFIDENCE_THRESHOLDS.copy()\n",
    "    \n",
    "    # Create custom thresholds - set impossible values for unwanted labels\n",
    "    custom_thresholds = original_thresholds.copy()\n",
    "    \n",
    "    # Set impossible thresholds (>1.0) for labels not in your config\n",
    "    for label in DocItemLabel:\n",
    "        if label not in confidence_config:\n",
    "            custom_thresholds[label] = 2.0  # Impossible threshold\n",
    "        else:\n",
    "            custom_thresholds[label] = confidence_config[label]\n",
    "    \n",
    "    return {\n",
    "        'original_thresholds': original_thresholds,\n",
    "        'custom_thresholds': custom_thresholds,\n",
    "    }\n",
    "\n",
    "def create_normal_converter():\n",
    "    \"\"\"Create standard converter with default settings\"\"\"\n",
    "    pipeline_options = PdfPipelineOptions()\n",
    "    pipeline_options.do_ocr = True\n",
    "    pipeline_options.do_table_structure = True\n",
    "    pipeline_options.table_structure_options.do_cell_matching = True\n",
    "    pipeline_options.ocr_options.lang = [\"en\"]\n",
    "    pipeline_options.accelerator_options = AcceleratorOptions(\n",
    "        num_threads=32, device=AcceleratorDevice.AUTO\n",
    "    )\n",
    "    \n",
    "    return DocumentConverter(\n",
    "        format_options={\n",
    "            InputFormat.PDF: PdfFormatOption(pipeline_options=pipeline_options)\n",
    "        }\n",
    "    )\n",
    "\n",
    "def create_custom_converter(debug_config):\n",
    "    \"\"\"Create converter with custom confidence thresholds\"\"\"\n",
    "    # Apply custom thresholds\n",
    "    LayoutPostprocessor.CONFIDENCE_THRESHOLDS = debug_config['custom_thresholds']\n",
    "    \n",
    "    # Create converter with same options as normal\n",
    "    pipeline_options = PdfPipelineOptions()\n",
    "    pipeline_options.do_ocr = True\n",
    "    pipeline_options.do_table_structure = True\n",
    "    pipeline_options.table_structure_options.do_cell_matching = True\n",
    "    pipeline_options.ocr_options.lang = [\"en\"]\n",
    "    pipeline_options.layout_options.create_orphan_clusters = False\n",
    "    pipeline_options.accelerator_options = AcceleratorOptions(\n",
    "        num_threads=32, device=AcceleratorDevice.AUTO\n",
    "    )\n",
    "    \n",
    "    return DocumentConverter(\n",
    "        format_options={\n",
    "            InputFormat.PDF: PdfFormatOption(pipeline_options=pipeline_options)\n",
    "        }\n",
    "    )\n",
    "\n",
    "def restore_original_config(debug_config):\n",
    "    \"\"\"Restore original confidence thresholds\"\"\"\n",
    "    LayoutPostprocessor.CONFIDENCE_THRESHOLDS = debug_config['original_thresholds']\n"
   ]
  },
  {
   "cell_type": "code",
   "execution_count": 3,
   "id": "445d3994-ae33-4676-9f9c-1e37b6f7d541",
   "metadata": {},
   "outputs": [
    {
     "data": {
      "text/plain": [
       "{<DocItemLabel.CAPTION: 'caption'>: 0.5,\n",
       " <DocItemLabel.FOOTNOTE: 'footnote'>: 0.5,\n",
       " <DocItemLabel.FORMULA: 'formula'>: 0.5,\n",
       " <DocItemLabel.LIST_ITEM: 'list_item'>: 0.5,\n",
       " <DocItemLabel.PAGE_FOOTER: 'page_footer'>: 0.5,\n",
       " <DocItemLabel.PAGE_HEADER: 'page_header'>: 0.5,\n",
       " <DocItemLabel.PICTURE: 'picture'>: 0.5,\n",
       " <DocItemLabel.SECTION_HEADER: 'section_header'>: 0.45,\n",
       " <DocItemLabel.TABLE: 'table'>: 0.5,\n",
       " <DocItemLabel.TEXT: 'text'>: 0.5,\n",
       " <DocItemLabel.TITLE: 'title'>: 0.45,\n",
       " <DocItemLabel.CODE: 'code'>: 0.45,\n",
       " <DocItemLabel.CHECKBOX_SELECTED: 'checkbox_selected'>: 0.45,\n",
       " <DocItemLabel.CHECKBOX_UNSELECTED: 'checkbox_unselected'>: 0.45,\n",
       " <DocItemLabel.FORM: 'form'>: 0.45,\n",
       " <DocItemLabel.KEY_VALUE_REGION: 'key_value_region'>: 0.45,\n",
       " <DocItemLabel.DOCUMENT_INDEX: 'document_index'>: 0.45}"
      ]
     },
     "execution_count": 3,
     "metadata": {},
     "output_type": "execute_result"
    }
   ],
   "source": [
    "LayoutPostprocessor.CONFIDENCE_THRESHOLDS"
   ]
  },
  {
   "cell_type": "code",
   "execution_count": 5,
   "id": "b82f38a1-65d2-42fb-9e23-dd58fcb779c1",
   "metadata": {},
   "outputs": [],
   "source": [
    "input_doc_path = \"testdata/06.pdf\"\n",
    "debug_dir = Path(\"testdata/debug/\")"
   ]
  },
  {
   "cell_type": "code",
   "execution_count": 4,
   "id": "8fcd9afd-971b-431f-86f0-8ff5a762cc44",
   "metadata": {},
   "outputs": [],
   "source": [
    "# import time\n",
    "# normal_converter = create_normal_converter()\n",
    "\n",
    "# start_time = time.time()\n",
    "# normal_result = normal_converter.convert(input_doc_path)\n",
    "# end_time = time.time() - start_time\n",
    "# print(f\"Document converted in {end_time:.2f} seconds.\")\n",
    "\n",
    "# doc_filename = normal_result.input.file.stem\n",
    "# with (debug_dir / f\"{doc_filename}_normal.md\").open(\"w\", encoding=\"utf-8\") as fp:\n",
    "#     fp.write(normal_result.document.export_to_markdown())"
   ]
  },
  {
   "cell_type": "code",
   "execution_count": 6,
   "id": "5f680815-0a91-4c0f-baca-f6e0353e66ce",
   "metadata": {},
   "outputs": [
    {
     "name": "stderr",
     "output_type": "stream",
     "text": [
      "2025-09-11 15:03:37,601 - INFO - detected formats: [<InputFormat.PDF: 'pdf'>]\n",
      "2025-09-11 15:03:37,677 - INFO - Going to convert document batch...\n",
      "2025-09-11 15:03:37,678 - INFO - Initializing pipeline for StandardPdfPipeline with options hash 3c084c1449dda55ebb0219f601cf7b5a\n",
      "2025-09-11 15:03:37,711 - INFO - Loading plugin 'docling_defaults'\n",
      "2025-09-11 15:03:37,715 - INFO - Registered ocr engines: ['easyocr', 'ocrmac', 'rapidocr', 'tesserocr', 'tesseract']\n",
      "2025-09-11 15:03:37,901 - INFO - Accelerator device: 'cuda:0'\n",
      "2025-09-11 15:03:40,291 - INFO - Accelerator device: 'cuda:0'\n",
      "2025-09-11 15:03:41,725 - INFO - Accelerator device: 'cuda:0'\n",
      "2025-09-11 15:03:42,524 - INFO - Loading plugin 'docling_defaults'\n",
      "2025-09-11 15:03:42,526 - INFO - Registered picture descriptions: ['vlm', 'api']\n",
      "2025-09-11 15:03:42,527 - INFO - Processing document 06.pdf\n",
      "2025-09-11 15:03:52,050 - INFO - Finished converting document 06.pdf in 14.69 sec.\n"
     ]
    },
    {
     "name": "stdout",
     "output_type": "stream",
     "text": [
      "Document converted in 14.69 seconds.\n"
     ]
    }
   ],
   "source": [
    "confidence_config = {\n",
    "    DocItemLabel.SECTION_HEADER: 0.8,\n",
    "    DocItemLabel.TEXT: 0.95,\n",
    "    # Only include labels you want to keep\n",
    "}\n",
    "debug_config = setup_debug_config(confidence_config)\n",
    "custom_converter = create_custom_converter(debug_config)\n",
    "\n",
    "start_time = time.time()\n",
    "custom_result = custom_converter.convert(input_doc_path)\n",
    "end_time = time.time() - start_time\n",
    "print(f\"Document converted in {end_time:.2f} seconds.\")\n",
    "\n",
    "doc_filename = custom_result.input.file.stem\n",
    "with (debug_dir / f\"{doc_filename}_custom.md\").open(\"w\", encoding=\"utf-8\") as fp:\n",
    "    fp.write(custom_result.document.export_to_markdown())"
   ]
  },
  {
   "cell_type": "code",
   "execution_count": 25,
   "id": "fe2790b8-584e-4e50-aa92-88ffdddb1dca",
   "metadata": {},
   "outputs": [
    {
     "data": {
      "text/plain": [
       "(SectionHeaderItem(self_ref='#/texts/68', parent=RefItem(cref='#/body'), children=[], content_layer=<ContentLayer.BODY: 'body'>, label=<DocItemLabel.SECTION_HEADER: 'section_header'>, prov=[ProvenanceItem(page_no=15, bbox=BoundingBox(l=42.52, t=657.7869995117188, r=104.791, b=646.8509995117188, coord_origin=<CoordOrigin.BOTTOMLEFT: 'BOTTOMLEFT'>), charspan=(0, 10))], orig='References', text='References', formatting=None, hyperlink=None, level=1),\n",
       " 1)"
      ]
     },
     "execution_count": 25,
     "metadata": {},
     "output_type": "execute_result"
    }
   ],
   "source": [
    "item"
   ]
  },
  {
   "cell_type": "code",
   "execution_count": 14,
   "id": "e8d7ede4-5015-4fb1-b259-ba040473fccf",
   "metadata": {},
   "outputs": [],
   "source": [
    "confidence_config = {\n",
    "    DocItemLabel.SECTION_HEADER: 0.8,\n",
    "    DocItemLabel.TEXT: 0.95,\n",
    "    # Only include labels you want to keep\n",
    "}\n",
    "filtered_result = filter_document_by_confidence(normal_result, confidence_config)"
   ]
  },
  {
   "cell_type": "code",
   "execution_count": 15,
   "id": "416b9391-442a-4331-ad12-8b6f862d9f83",
   "metadata": {},
   "outputs": [],
   "source": [
    "doc_filename = filtered_result.input.file.stem\n",
    "with (debug_dir / f\"{doc_filename}_post.md\").open(\"w\", encoding=\"utf-8\") as fp:\n",
    "    fp.write(filtered_result.document.export_to_markdown())"
   ]
  },
  {
   "cell_type": "code",
   "execution_count": 21,
   "id": "218c156f-cabc-4720-9bfc-d1f8c8e3b6c4",
   "metadata": {},
   "outputs": [],
   "source": [
    "md = filtered_result.document.export_to_markdown()"
   ]
  },
  {
   "cell_type": "code",
   "execution_count": 23,
   "id": "175a242c-63b6-407f-9680-429e01d97b3b",
   "metadata": {},
   "outputs": [
    {
     "ename": "AttributeError",
     "evalue": "'DoclingDocument' object has no attribute 'main_text'",
     "output_type": "error",
     "traceback": [
      "\u001b[0;31m---------------------------------------------------------------------------\u001b[0m",
      "\u001b[0;31mAttributeError\u001b[0m                            Traceback (most recent call last)",
      "Cell \u001b[0;32mIn[23], line 1\u001b[0m\n\u001b[0;32m----> 1\u001b[0m \u001b[43mfiltered_result\u001b[49m\u001b[38;5;241;43m.\u001b[39;49m\u001b[43mdocument\u001b[49m\u001b[38;5;241;43m.\u001b[39;49m\u001b[43mmain_text\u001b[49m\n",
      "File \u001b[0;32m/opt/conda/lib/python3.11/site-packages/pydantic/main.py:991\u001b[0m, in \u001b[0;36mBaseModel.__getattr__\u001b[0;34m(self, item)\u001b[0m\n\u001b[1;32m    988\u001b[0m     \u001b[38;5;28;01mreturn\u001b[39;00m \u001b[38;5;28msuper\u001b[39m()\u001b[38;5;241m.\u001b[39m\u001b[38;5;21m__getattribute__\u001b[39m(item)  \u001b[38;5;66;03m# Raises AttributeError if appropriate\u001b[39;00m\n\u001b[1;32m    989\u001b[0m \u001b[38;5;28;01melse\u001b[39;00m:\n\u001b[1;32m    990\u001b[0m     \u001b[38;5;66;03m# this is the current error\u001b[39;00m\n\u001b[0;32m--> 991\u001b[0m     \u001b[38;5;28;01mraise\u001b[39;00m \u001b[38;5;167;01mAttributeError\u001b[39;00m(\u001b[38;5;124mf\u001b[39m\u001b[38;5;124m'\u001b[39m\u001b[38;5;132;01m{\u001b[39;00m\u001b[38;5;28mtype\u001b[39m(\u001b[38;5;28mself\u001b[39m)\u001b[38;5;241m.\u001b[39m\u001b[38;5;18m__name__\u001b[39m\u001b[38;5;132;01m!r}\u001b[39;00m\u001b[38;5;124m object has no attribute \u001b[39m\u001b[38;5;132;01m{\u001b[39;00mitem\u001b[38;5;132;01m!r}\u001b[39;00m\u001b[38;5;124m'\u001b[39m)\n",
      "\u001b[0;31mAttributeError\u001b[0m: 'DoclingDocument' object has no attribute 'main_text'"
     ]
    }
   ],
   "source": [
    "filtered_result.document.main_text"
   ]
  },
  {
   "cell_type": "code",
   "execution_count": 11,
   "id": "43d75122-f59a-4cf4-a7d9-f87f2404f6c6",
   "metadata": {},
   "outputs": [
    {
     "name": "stdout",
     "output_type": "stream",
     "text": [
      "Object `normal_result.document` not found.\n"
     ]
    }
   ],
   "source": [
    "normal_result.document?"
   ]
  },
  {
   "cell_type": "code",
   "execution_count": null,
   "id": "6024ab74-d6cf-4749-8542-bce2792aa03d",
   "metadata": {},
   "outputs": [],
   "source": []
  }
 ],
 "metadata": {
  "kernelspec": {
   "display_name": "Python 3 (ipykernel)",
   "language": "python",
   "name": "python3"
  },
  "language_info": {
   "codemirror_mode": {
    "name": "ipython",
    "version": 3
   },
   "file_extension": ".py",
   "mimetype": "text/x-python",
   "name": "python",
   "nbconvert_exporter": "python",
   "pygments_lexer": "ipython3",
   "version": "3.11.10"
  }
 },
 "nbformat": 4,
 "nbformat_minor": 5
}
